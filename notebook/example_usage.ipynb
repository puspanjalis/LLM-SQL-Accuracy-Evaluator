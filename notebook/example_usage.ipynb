{
 "cells": [
  {
   "cell_type": "code",
   "execution_count": null,
   "id": "edc91138",
   "metadata": {},
   "outputs": [],
   "source": [
    "from src.evaluator import evaluate_query_accuracy\n",
    "from src.sql_generator import mock_llm_sql_generator\n",
    "\n",
    "question = \"Get all employees with salary greater than 50000\"\n",
    "generated_sql = mock_llm_sql_generator(question)\n",
    "accuracy = evaluate_query_accuracy(\"Q1\", generated_sql)\n",
    "\n",
    "print(f\"Accuracy Score: {accuracy}%\")"
   ]
  }
 ],
 "metadata": {
  "language_info": {
   "name": "python"
  }
 },
 "nbformat": 4,
 "nbformat_minor": 5
}
